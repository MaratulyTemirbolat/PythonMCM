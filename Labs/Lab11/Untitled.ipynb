{
 "cells": [
  {
   "cell_type": "code",
   "execution_count": 3,
   "metadata": {},
   "outputs": [
    {
     "ename": "SyntaxError",
     "evalue": "(unicode error) 'unicodeescape' codec can't decode bytes in position 224-225: truncated \\UXXXXXXXX escape (<ipython-input-3-ec843c3c0b2a>, line 5)",
     "output_type": "error",
     "traceback": [
      "\u001b[1;36m  File \u001b[1;32m\"<ipython-input-3-ec843c3c0b2a>\"\u001b[1;36m, line \u001b[1;32m5\u001b[0m\n\u001b[1;33m    message = \"\"\"\u001b[0m\n\u001b[1;37m              ^\u001b[0m\n\u001b[1;31mSyntaxError\u001b[0m\u001b[1;31m:\u001b[0m (unicode error) 'unicodeescape' codec can't decode bytes in position 224-225: truncated \\UXXXXXXXX escape\n"
     ]
    }
   ],
   "source": [
    "import webbrowser\n",
    "\n",
    "f = open(\"C:/Users/temir/OneDrive/Рабочий стол/KBTU/Programming on Python/Labs/Lab11/AboutMe.html\",\"w\")\n",
    "\n",
    "message = \"\"\"\n",
    "<!DOCTYPE html>\n",
    "<html>\n",
    "    <head>\n",
    "        <title>About myself</title>\n",
    "    </head>\n",
    "<body>\n",
    "    <center>\n",
    "        <h1>Personal Information</h1>\n",
    "    </center>\n",
    "    \n",
    "    <div id = \"Content\" align =\"left\">\n",
    "            <img src =\"C:\\Users\\temir\\OneDrive\\Рабочий стол\\myPhoto.jpg\" style>\n",
    "    </div>\n",
    "</body>\n",
    "</html>\n",
    "\"\"\"\n",
    "f.write(message)\n",
    "f.close()\n",
    "filePos = \"C:/Users/temir/OneDrive/Рабочий стол/KBTU/Programming on Python/Labs/Lab11/AboutMe.html\"\n",
    "webbrowser.open_new_tab(filePos)"
   ]
  },
  {
   "cell_type": "code",
   "execution_count": null,
   "metadata": {},
   "outputs": [],
   "source": []
  }
 ],
 "metadata": {
  "kernelspec": {
   "display_name": "Python 3",
   "language": "python",
   "name": "python3"
  },
  "language_info": {
   "codemirror_mode": {
    "name": "ipython",
    "version": 3
   },
   "file_extension": ".py",
   "mimetype": "text/x-python",
   "name": "python",
   "nbconvert_exporter": "python",
   "pygments_lexer": "ipython3",
   "version": "3.8.5"
  }
 },
 "nbformat": 4,
 "nbformat_minor": 4
}
