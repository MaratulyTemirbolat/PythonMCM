{
 "cells": [
  {
   "cell_type": "code",
   "execution_count": 7,
   "metadata": {},
   "outputs": [],
   "source": [
    "class MyTime:\n",
    "    second = 0\n",
    "    minute = 0\n",
    "    hour = 0\n",
    "    def __init__(self,hour,minute,second):\n",
    "        self.second = second\n",
    "        self.minute = minute\n",
    "        self.hour = hour\n",
    "    def convertToSeconds(self):\n",
    "        self.second = self.second + (self.minute * 60)\n",
    "        self.second = self.second + (self.hour * 3600)\n",
    "        print(self.second)\n",
    "    def convertToMinutes(self):\n",
    "        self.minute = self.minute + (self.hour * 60)\n",
    "        self.minute = self.minute + (int(self.second /60))\n",
    "        print(\"MM: {}\".format(self.minute))"
   ]
  },
  {
   "cell_type": "code",
   "execution_count": 8,
   "metadata": {},
   "outputs": [
    {
     "name": "stdout",
     "output_type": "stream",
     "text": [
      "36721\n",
      "MM: 1224\n"
     ]
    }
   ],
   "source": [
    "time = MyTime(10,12,1)\n",
    "time.convertToSeconds()\n",
    "time.convertToMinutes()"
   ]
  },
  {
   "cell_type": "code",
   "execution_count": 16,
   "metadata": {},
   "outputs": [],
   "source": [
    "class AnalogTime(MyTime):\n",
    "     def __init__(self,hour,minute,second):\n",
    "         super().__init__(hour,minute,second)\n",
    "     def showAnalogTime(self):\n",
    "         if self.hour>12:\n",
    "             self.hour = self.hour-12\n",
    "         print(str(self.hour) + \":\" +str(self.minute) + \":\" + str(self.second))\n",
    "     def showAmericanTime(self):\n",
    "         if self.hour >= 12 and (self.minute>0 or self.second > 0 ):\n",
    "             print(str(self.hour - 11) + \":\" + str(self.minute) + \":\" + str(self.second) + \"p.m.\")\n",
    "         else:\n",
    "             print(str(self.hour) + \":\" + str(self.minute) + \":\" + str(self.second) + \"a.m.\")"
   ]
  },
  {
   "cell_type": "code",
   "execution_count": 17,
   "metadata": {},
   "outputs": [
    {
     "name": "stdout",
     "output_type": "stream",
     "text": [
      "12:12:2\n",
      "1:12:2p.m.\n"
     ]
    }
   ],
   "source": [
    "anTime2 = AnalogTime(12,12,2)\n",
    "anTime2.showAnalogTime()\n",
    "anTime2.showAmericanTime()"
   ]
  },
  {
   "cell_type": "code",
   "execution_count": null,
   "metadata": {},
   "outputs": [],
   "source": []
  }
 ],
 "metadata": {
  "kernelspec": {
   "display_name": "Python 3",
   "language": "python",
   "name": "python3"
  },
  "language_info": {
   "codemirror_mode": {
    "name": "ipython",
    "version": 3
   },
   "file_extension": ".py",
   "mimetype": "text/x-python",
   "name": "python",
   "nbconvert_exporter": "python",
   "pygments_lexer": "ipython3",
   "version": "3.8.5"
  }
 },
 "nbformat": 4,
 "nbformat_minor": 4
}
